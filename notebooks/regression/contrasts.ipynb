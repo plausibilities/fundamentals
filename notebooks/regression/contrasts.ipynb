{
 "cells": [
  {
   "cell_type": "code",
   "execution_count": 1,
   "metadata": {},
   "outputs": [
    {
     "name": "stdout",
     "output_type": "stream",
     "text": [
      "\n",
      "In progress ...\n",
      "\n",
      "2020-12-08 20:42:07\n",
      "\n",
      "\n"
     ]
    }
   ],
   "source": [
    "%%bash\n",
    "\n",
    "echo -e \"\\nIn progress ...\\n\"\n",
    "\n",
    "date +\"%Y-%m-%d %T\"\n",
    "\n",
    "echo -e \"\\n\""
   ]
  },
  {
   "cell_type": "markdown",
   "metadata": {
    "id": "xOmmUcn7jhTH"
   },
   "source": [
    "\n",
    "# Introduction"
   ]
  },
  {
   "cell_type": "markdown",
   "metadata": {
    "id": "WMhgoJOXhFEz"
   },
   "source": [
    "This notebook estimates the underlying model of a data set via linear models, i.e., it is hypothesised that the underlying data model is linear.  Remember, the term **weights** refers to the parameters of a model, i.e., $\\:m$ & $c\\:$ in $\\:y = mx + c$\n",
    "\n",
    "<br>\n",
    "\n",
    "**Help Notes**\n",
    "\n",
    "* Graphing:\n",
    "\n",
    "  * [add_subplot](https://matplotlib.org/3.3.1/api/_as_gen/matplotlib.figure.Figure.html#matplotlib.figure.Figure.add_subplot), &nbsp; [.plot](https://matplotlib.org/3.3.1/api/_as_gen/matplotlib.pyplot.plot.html#matplotlib.pyplot.plot),  &nbsp; [.legend](https://matplotlib.org/3.3.1/api/_as_gen/matplotlib.pyplot.legend.html#matplotlib.pyplot.legend),  &nbsp; [.xlabel & .ylabel](https://matplotlib.org/3.3.1/api/_as_gen/matplotlib.figure.Figure.html#matplotlib.figure.Figure)\n",
    "\n",
    "\n",
    "* Distributions of observed values:\n",
    "\n",
    "  * [Kernel Density Estimation Graphs](https://seaborn.pydata.org/generated/seaborn.kdeplot.html)\n",
    "\n",
    "  * [Kernel Density Estimation](https://seaborn.pydata.org/tutorial/distributions.html#kernel-density-estimation)\n"
   ]
  },
  {
   "cell_type": "markdown",
   "metadata": {
    "id": "yxV1rFlw1Xm7"
   },
   "source": [
    "<br>\n",
    "<br>\n",
    "\n",
    "# Preliminaries"
   ]
  },
  {
   "cell_type": "markdown",
   "metadata": {
    "id": "xIO35gaTLxV5"
   },
   "source": [
    "Cleaning-up"
   ]
  },
  {
   "cell_type": "code",
   "execution_count": 2,
   "metadata": {
    "id": "kwo9iqIcFpG9"
   },
   "outputs": [],
   "source": [
    "!rm -rf *.sh"
   ]
  },
  {
   "cell_type": "markdown",
   "metadata": {
    "id": "sK9uUv-J2cbh"
   },
   "source": [
    "<br>\n",
    "\n",
    "## Packages, Paths, Libraries"
   ]
  },
  {
   "cell_type": "markdown",
   "metadata": {
    "id": "EJfXce8AL0fQ"
   },
   "source": [
    "**Packages**\n",
    "\n",
    "Downloading packages from GitHub"
   ]
  },
  {
   "cell_type": "code",
   "execution_count": 3,
   "metadata": {
    "id": "1FLF4bwkEjEH"
   },
   "outputs": [],
   "source": [
    "import subprocess"
   ]
  },
  {
   "cell_type": "code",
   "execution_count": 4,
   "metadata": {
    "id": "eJ8OG1nnAh70"
   },
   "outputs": [],
   "source": [
    "if 'google.colab' in str(get_ipython()):\n",
    "    subprocess.run('wget -q https://raw.githubusercontent.com/plausibilities/fundamentals/develop/scripts.sh', shell=True)\n",
    "    subprocess.run('chmod u+x scripts.sh', shell=True)\n",
    "    subprocess.run('./scripts.sh', shell=True)"
   ]
  },
  {
   "cell_type": "markdown",
   "metadata": {},
   "source": [
    "<br>\n",
    "\n",
    "**Paths**"
   ]
  },
  {
   "cell_type": "code",
   "execution_count": 5,
   "metadata": {},
   "outputs": [],
   "source": [
    "import os\n",
    "import pathlib\n",
    "import sys"
   ]
  },
  {
   "cell_type": "code",
   "execution_count": 6,
   "metadata": {},
   "outputs": [],
   "source": [
    "if not 'google.colab' in str(get_ipython()):\n",
    "    \n",
    "    notebooks = os.path.split(os.getcwd())[0]\n",
    "    parent = str(pathlib.Path(notebooks).parent)\n",
    "    sys.path.append(parent)"
   ]
  },
  {
   "cell_type": "markdown",
   "metadata": {
    "id": "2_KNN35N1ciQ"
   },
   "source": [
    "<br>\n",
    "\n",
    "**Libraries**"
   ]
  },
  {
   "cell_type": "code",
   "execution_count": 7,
   "metadata": {
    "id": "2OwU35Ut1Nbn"
   },
   "outputs": [],
   "source": [
    "import arviz as az\n",
    "import graphviz\n",
    "import pymc3 as pm\n",
    "\n",
    "import logging\n",
    "import collections\n",
    "\n",
    "import matplotlib\n",
    "import matplotlib.pyplot as plt\n",
    "import seaborn as sns\n",
    "\n",
    "import numpy as np\n",
    "import theano\n"
   ]
  },
  {
   "cell_type": "code",
   "execution_count": 8,
   "metadata": {
    "colab": {
     "base_uri": "https://localhost:8080/",
     "height": 36
    },
    "id": "s4pYMukjBwGX",
    "outputId": "0aaf23e9-5876-47ec-e112-cbcd1506204e"
   },
   "outputs": [
    {
     "data": {
      "text/plain": [
       "'3.9.3'"
      ]
     },
     "execution_count": 8,
     "metadata": {},
     "output_type": "execute_result"
    }
   ],
   "source": [
    "pm.__version__"
   ]
  },
  {
   "cell_type": "markdown",
   "metadata": {
    "id": "yCxaE8hRnsdE"
   },
   "source": [
    "<br>\n",
    "\n",
    "Custom"
   ]
  },
  {
   "cell_type": "code",
   "execution_count": 9,
   "metadata": {
    "id": "VryCLuvhLZuj"
   },
   "outputs": [],
   "source": [
    "import fundamentals.graphics.settings\n",
    "import fundamentals.graphics.relational\n",
    "\n",
    "import fundamentals.samples.linear"
   ]
  },
  {
   "cell_type": "markdown",
   "metadata": {},
   "source": [
    "<br>\n",
    "\n",
    "**Generic Instances**"
   ]
  },
  {
   "cell_type": "markdown",
   "metadata": {},
   "source": [
    "A relational graph instance, and its labels class"
   ]
  },
  {
   "cell_type": "code",
   "execution_count": 10,
   "metadata": {},
   "outputs": [],
   "source": [
    "relational = fundamentals.graphics.relational.Relational()\n",
    "\n",
    "RelationalGraphLabels = collections.namedtuple(\n",
    "    typename='RelationalGraphLabels', field_names=['title', 'xlabel', 'ylabel'])"
   ]
  },
  {
   "cell_type": "markdown",
   "metadata": {
    "id": "gFj3ev4xCpUs"
   },
   "source": [
    "<br>\n",
    "\n",
    "## Set-up"
   ]
  },
  {
   "cell_type": "markdown",
   "metadata": {
    "id": "eDpwlZiwDkqt"
   },
   "source": [
    "**Display**\n",
    "\n",
    "If the display screen supports **retina display**, a figure's resolution can be enhanced via"
   ]
  },
  {
   "cell_type": "code",
   "execution_count": 11,
   "metadata": {
    "id": "GKqoNlJUCtrZ"
   },
   "outputs": [],
   "source": [
    "%config InlineBackend.figure_format = 'retina'"
   ]
  },
  {
   "cell_type": "markdown",
   "metadata": {
    "id": "pU0HNDGeMiqV"
   },
   "source": [
    "<br>\n",
    "\n",
    "**Layout & Aesthetics**\n"
   ]
  },
  {
   "cell_type": "code",
   "execution_count": 12,
   "metadata": {
    "id": "PSlpUpu4MqYP"
   },
   "outputs": [],
   "source": [
    "settings = fundamentals.graphics.settings.Settings()\n",
    "\n",
    "settings.layout()\n",
    "settings.aesthetics()"
   ]
  },
  {
   "cell_type": "markdown",
   "metadata": {
    "id": "fXd6EcvCb7sS"
   },
   "source": [
    "<br>\n",
    "\n",
    "## Logging"
   ]
  },
  {
   "cell_type": "code",
   "execution_count": 13,
   "metadata": {
    "id": "WQieaTzLcBM_"
   },
   "outputs": [],
   "source": [
    "logging.basicConfig(level=logging.INFO)\n",
    "logger = logging.getLogger(__name__)"
   ]
  },
  {
   "cell_type": "markdown",
   "metadata": {
    "id": "Zj0CSAr85huZ"
   },
   "source": [
    "<br>\n",
    "<br>\n",
    "\n",
    "# Data"
   ]
  },
  {
   "cell_type": "markdown",
   "metadata": {
    "id": "1rXgcK5HK37j"
   },
   "source": [
    "\n",
    "Underlying model  $\\: mX + c \\:$ for $\\: \\rightarrow$\n",
    "\n",
    "* $Y = mX + c + \\mathcal{E}$\n",
    "\n",
    "wherein\n",
    "\n",
    "* $Y$: $N \\times 1$\n",
    "* $X$: $N \\times 1$\n",
    "* $m$: $1 \\times 1$, the gradient \n",
    "* $\\;\\: c$: $1 \\times 1$, the intercept\n",
    "* $\\; \\mathcal{E}$: $N \\times 1$, residuals | noise | errors"
   ]
  },
  {
   "cell_type": "markdown",
   "metadata": {
    "id": "_LLwdxnVNGzi"
   },
   "source": [
    "<br>\n",
    "\n",
    "## Sample"
   ]
  },
  {
   "cell_type": "markdown",
   "metadata": {},
   "source": [
    "Parameters for sampling"
   ]
  },
  {
   "cell_type": "code",
   "execution_count": 14,
   "metadata": {},
   "outputs": [
    {
     "name": "stderr",
     "output_type": "stream",
     "text": [
      "INFO:__main__:The original data length\n",
      "100\n",
      "\n",
      "INFO:__main__:The number of future points to predict\n",
      "100\n",
      "\n"
     ]
    }
   ],
   "source": [
    "Parameters = collections.namedtuple(typename='Parameters', \n",
    "                                    field_names=['N', 'F', 'range', 'intercept', 'gradient', 'noiseloc', 'noisescale'])\n",
    "\n",
    "parameters = Parameters._make([100, 100, (0, 2), 1.0, 2.0, 0.0, 0.5])\n",
    "\n",
    "logger.info('The original data length\\n{}\\n'.format(parameters.N))\n",
    "logger.info('The number of future points to predict\\n{}\\n'.format(parameters.F))"
   ]
  },
  {
   "cell_type": "markdown",
   "metadata": {},
   "source": [
    "<br>\n",
    "\n",
    "Hence, the sample of data"
   ]
  },
  {
   "cell_type": "code",
   "execution_count": 15,
   "metadata": {
    "colab": {
     "base_uri": "https://localhost:8080/"
    },
    "id": "Yk14TLRpqfTk",
    "outputId": "ad31154e-3b77-497b-f3cd-95876e1a4409"
   },
   "outputs": [
    {
     "name": "stderr",
     "output_type": "stream",
     "text": [
      "INFO:__main__:The # of independent variable/s instances\n",
      "(100,)\n",
      "\n",
      "INFO:__main__:The # of dependent variable/s instances\n",
      "(100,)\n",
      "\n"
     ]
    }
   ],
   "source": [
    "linear = fundamentals.samples.linear.Linear(parameters=parameters)\n",
    "\n",
    "data = linear.exc()\n",
    "\n",
    "logger.info('The # of independent variable/s instances\\n{}\\n'.format(data.independent.shape))\n",
    "logger.info('The # of dependent variable/s instances\\n{}\\n'.format(data.dependent.shape))"
   ]
  },
  {
   "cell_type": "markdown",
   "metadata": {
    "id": "TPbCn_x0NZXD"
   },
   "source": [
    "<br>\n",
    "\n",
    "## Illustration"
   ]
  },
  {
   "cell_type": "markdown",
   "metadata": {},
   "source": [
    "The data"
   ]
  },
  {
   "cell_type": "code",
   "execution_count": 16,
   "metadata": {
    "colab": {
     "base_uri": "https://localhost:8080/",
     "height": 288
    },
    "id": "5LTvigGIOW94",
    "outputId": "450d5a77-bd83-4e7d-d382-443b38257213"
   },
   "outputs": [
    {
     "data": {
      "image/png": "[encoded data removed]",
      "text/plain": [
       "<Figure size 290x290 with 1 Axes>"
      ]
     },
     "metadata": {
      "image/png": {
       "height": 301,
       "width": 301
      }
     },
     "output_type": "display_data"
    }
   ],
   "source": [
    "ax = relational.figure(width=2.9, height=2.9)\n",
    "ax.plot(data.independent, data.dependent, 'ko', label='observations')\n",
    "ax.plot(data.abscissae, data.ordinates, 'r-', label='underlying model')\n",
    "\n",
    "relational.annotation(handle=ax, \n",
    "                      labels=RelationalGraphLabels._make(['\\ndata\\n', '\\nx', 'y\\n']))\n",
    "\n",
    "ax.legend(loc='upper right', fontsize='small');"
   ]
  },
  {
   "cell_type": "markdown",
   "metadata": {},
   "source": [
    "<br>\n",
    "\n",
    "The distribution of the observations"
   ]
  },
  {
   "cell_type": "code",
   "execution_count": 17,
   "metadata": {
    "colab": {
     "base_uri": "https://localhost:8080/",
     "height": 277
    },
    "id": "HAw__FJGXWnE",
    "outputId": "3799761a-b3a3-4736-c5fe-19573109b825"
   },
   "outputs": [
    {
     "data": {
      "image/png": "[encoded data removed]",
      "text/plain": [
       "<Figure size 280x250 with 1 Axes>"
      ]
     },
     "metadata": {
      "image/png": {
       "height": 261,
       "width": 291
      }
     },
     "output_type": "display_data"
    }
   ],
   "source": [
    "ax = relational.figure(width=2.8, height=2.5)\n",
    "sns.kdeplot(data=data.dependent)\n",
    "\n",
    "relational.annotation(handle=ax, \n",
    "                      labels=RelationalGraphLabels._make(['\\ndensity graph\\n', '\\nobservations', 'density\\n']))"
   ]
  },
  {
   "cell_type": "markdown",
   "metadata": {
    "id": "yTKaHcpSs1nd"
   },
   "source": [
    "<br>\n",
    "<br>\n",
    "\n",
    "# Modelling"
   ]
  },
  {
   "cell_type": "code",
   "execution_count": 18,
   "metadata": {},
   "outputs": [],
   "source": [
    "import fundamentals.regression.predictions\n",
    "import fundamentals.regression.characteristics"
   ]
  },
  {
   "cell_type": "markdown",
   "metadata": {
    "id": "dwttIYJzQOk8"
   },
   "source": [
    "## Student"
   ]
  },
  {
   "cell_type": "markdown",
   "metadata": {
    "id": "aJB4LIGv1o8q"
   },
   "source": [
    "**Hypothesis**:  Linear underlying model.\n",
    "\n",
    "Modelling via **Student's t-distribution Likelihood Model**, and noting that the term **weights** refers to the parameters of a model, i.e., $\\:m$ & $c\\:$ in $\\:y = mx + c$.  The hyperpriors of the **Student's t-distribution Likelihood Model** are $\\sigma$ & $\\nu$, i.e., if the t-distribution is denoted\n",
    "\n",
    "&nbsp; &nbsp; &nbsp; &nbsp; &nbsp; $ \\mathcal{St} \\left(x | \\mu, \\nu, \\lambda \\approx \\large{\\frac{1}{\\sigma^{2}}} \\right) $\n",
    "\n",
    "then\n",
    "\n",
    "* $\\sigma$ & $\\nu$ are the likehood model's hyperparameters\n",
    "* $\\mu$ is the data model estimator such that $\\; \\mu$ = pm.Deterministic(name=$\\mu$, mx + c))\n",
    "\n",
    "In the case of **stochastic weights**\n",
    "\n",
    "* $m \\sim \\mathcal{GaussianRandomWalk()}$\n",
    "* $c \\sim \\mathcal{GaussianRandomWalk()}$\n",
    "\n",
    "whereas the set-up for **Gaussian weights** is\n",
    "\n",
    "* $m \\sim \\mathcal{N}()$\n",
    "* $c \\sim \\mathcal{N}()$\n",
    "\n",
    "i.e., each is modelled via a normal, i.e., Gaussian, distribution."
   ]
  },
  {
   "cell_type": "markdown",
   "metadata": {
    "id": "OxNWa_zz0YQo"
   },
   "source": [
    "<br>\n",
    "<br>\n",
    "\n",
    "### Student Likelihood, Stochastic Weights"
   ]
  },
  {
   "cell_type": "code",
   "execution_count": 19,
   "metadata": {
    "id": "w1xLlPEeFo4F"
   },
   "outputs": [],
   "source": [
    "import fundamentals.regression.student.stochastic"
   ]
  },
  {
   "cell_type": "code",
   "execution_count": 20,
   "metadata": {},
   "outputs": [
    {
     "name": "stderr",
     "output_type": "stream",
     "text": [
      "Auto-assigning NUTS sampler...\n",
      "INFO:pymc3:Auto-assigning NUTS sampler...\n",
      "Initializing NUTS using jitter+adapt_diag...\n",
      "INFO:pymc3:Initializing NUTS using jitter+adapt_diag...\n",
      "Multiprocess sampling (2 chains in 2 jobs)\n",
      "INFO:pymc3:Multiprocess sampling (2 chains in 2 jobs)\n",
      "NUTS: [nu_, sigma_, intercept, interceptDeviation, interceptDrift, gradient, gradientDeviation, gradientDrift]\n",
      "INFO:pymc3:NUTS: [nu_, sigma_, intercept, interceptDeviation, interceptDrift, gradient, gradientDeviation, gradientDrift]\n"
     ]
    },
    {
     "data": {
      "text/html": [
       "\n",
       "    <div>\n",
       "        <style>\n",
       "            /* Turns off some styling */\n",
       "            progress {\n",
       "                /* gets rid of default border in Firefox and Opera. */\n",
       "                border: none;\n",
       "                /* Needs to be in here for Safari polyfill so background images work as expected. */\n",
       "                background-size: auto;\n",
       "            }\n",
       "            .progress-bar-interrupted, .progress-bar-interrupted::-webkit-progress-bar {\n",
       "                background: #F44336;\n",
       "            }\n",
       "        </style>\n",
       "      <progress value='16000' class='' max='16000' style='width:300px; height:20px; vertical-align: middle;'></progress>\n",
       "      100.00% [16000/16000 00:27<00:00 Sampling 2 chains, 0 divergences]\n",
       "    </div>\n",
       "    "
      ],
      "text/plain": [
       "<IPython.core.display.HTML object>"
      ]
     },
     "metadata": {},
     "output_type": "display_data"
    },
    {
     "name": "stderr",
     "output_type": "stream",
     "text": [
      "Sampling 2 chains for 4_000 tune and 4_000 draw iterations (8_000 + 8_000 draws total) took 35 seconds.\n",
      "INFO:pymc3:Sampling 2 chains for 4_000 tune and 4_000 draw iterations (8_000 + 8_000 draws total) took 35 seconds.\n"
     ]
    },
    {
     "data": {
      "text/html": [
       "\n",
       "    <div>\n",
       "        <style>\n",
       "            /* Turns off some styling */\n",
       "            progress {\n",
       "                /* gets rid of default border in Firefox and Opera. */\n",
       "                border: none;\n",
       "                /* Needs to be in here for Safari polyfill so background images work as expected. */\n",
       "                background-size: auto;\n",
       "            }\n",
       "            .progress-bar-interrupted, .progress-bar-interrupted::-webkit-progress-bar {\n",
       "                background: #F44336;\n",
       "            }\n",
       "        </style>\n",
       "      <progress value='47' class='' max='47' style='width:300px; height:20px; vertical-align: middle;'></progress>\n",
       "      100.00% [47/47 00:00<00:00 logp = -118.63, ||grad|| = 0.076157]\n",
       "    </div>\n",
       "    "
      ],
      "text/plain": [
       "<IPython.core.display.HTML object>"
      ]
     },
     "metadata": {},
     "output_type": "display_data"
    },
    {
     "name": "stdout",
     "output_type": "stream",
     "text": [
      "\n"
     ]
    }
   ],
   "source": [
    "stochastic = fundamentals.regression.student.stochastic.Stochastic(\n",
    "    independent=data.independent, dependent=data.dependent).inference()"
   ]
  },
  {
   "cell_type": "markdown",
   "metadata": {},
   "source": [
    "<br>\n",
    "\n",
    "DAG"
   ]
  },
  {
   "cell_type": "code",
   "execution_count": 21,
   "metadata": {},
   "outputs": [],
   "source": [
    "fundamentals.regression.characteristics.Characteristics(\n",
    "    model=stochastic.model, trace=stochastic.trace).dag_(path='stochastic')"
   ]
  },
  {
   "cell_type": "markdown",
   "metadata": {},
   "source": [
    "<br>\n",
    "\n",
    "Predictions"
   ]
  },
  {
   "cell_type": "code",
   "execution_count": 22,
   "metadata": {},
   "outputs": [],
   "source": [
    "ssp = fundamentals.regression.predictions.Predictions(\n",
    "    trace=stochastic.trace, maximal=stochastic.maximal, abscissae=data.abscissae, size=75).exc()"
   ]
  },
  {
   "cell_type": "code",
   "execution_count": 23,
   "metadata": {},
   "outputs": [
    {
     "name": "stderr",
     "output_type": "stream",
     "text": [
      "INFO:__main__:(200, 75)\n"
     ]
    }
   ],
   "source": [
    "logger.info(ssp.lines.shape)"
   ]
  },
  {
   "cell_type": "markdown",
   "metadata": {
    "id": "ssNymE_Igdir"
   },
   "source": [
    "<br>\n",
    "<br>\n",
    "\n",
    "### Student Likelihood, Gaussian Weights"
   ]
  },
  {
   "cell_type": "code",
   "execution_count": 24,
   "metadata": {
    "id": "IXp1OtDhoZPo"
   },
   "outputs": [],
   "source": [
    "import fundamentals.regression.student.gaussian"
   ]
  },
  {
   "cell_type": "code",
   "execution_count": 25,
   "metadata": {
    "id": "wBDk6YeGocNm"
   },
   "outputs": [
    {
     "name": "stderr",
     "output_type": "stream",
     "text": [
      "Auto-assigning NUTS sampler...\n",
      "INFO:pymc3:Auto-assigning NUTS sampler...\n",
      "Initializing NUTS using jitter+adapt_diag...\n",
      "INFO:pymc3:Initializing NUTS using jitter+adapt_diag...\n",
      "Multiprocess sampling (2 chains in 2 jobs)\n",
      "INFO:pymc3:Multiprocess sampling (2 chains in 2 jobs)\n",
      "NUTS: [nu_, sigma_, intercept, gradient]\n",
      "INFO:pymc3:NUTS: [nu_, sigma_, intercept, gradient]\n"
     ]
    },
    {
     "data": {
      "text/html": [
       "\n",
       "    <div>\n",
       "        <style>\n",
       "            /* Turns off some styling */\n",
       "            progress {\n",
       "                /* gets rid of default border in Firefox and Opera. */\n",
       "                border: none;\n",
       "                /* Needs to be in here for Safari polyfill so background images work as expected. */\n",
       "                background-size: auto;\n",
       "            }\n",
       "            .progress-bar-interrupted, .progress-bar-interrupted::-webkit-progress-bar {\n",
       "                background: #F44336;\n",
       "            }\n",
       "        </style>\n",
       "      <progress value='16000' class='' max='16000' style='width:300px; height:20px; vertical-align: middle;'></progress>\n",
       "      100.00% [16000/16000 00:19<00:00 Sampling 2 chains, 0 divergences]\n",
       "    </div>\n",
       "    "
      ],
      "text/plain": [
       "<IPython.core.display.HTML object>"
      ]
     },
     "metadata": {},
     "output_type": "display_data"
    },
    {
     "name": "stderr",
     "output_type": "stream",
     "text": [
      "Sampling 2 chains for 4_000 tune and 4_000 draw iterations (8_000 + 8_000 draws total) took 26 seconds.\n",
      "INFO:pymc3:Sampling 2 chains for 4_000 tune and 4_000 draw iterations (8_000 + 8_000 draws total) took 26 seconds.\n"
     ]
    },
    {
     "data": {
      "text/html": [
       "\n",
       "    <div>\n",
       "        <style>\n",
       "            /* Turns off some styling */\n",
       "            progress {\n",
       "                /* gets rid of default border in Firefox and Opera. */\n",
       "                border: none;\n",
       "                /* Needs to be in here for Safari polyfill so background images work as expected. */\n",
       "                background-size: auto;\n",
       "            }\n",
       "            .progress-bar-interrupted, .progress-bar-interrupted::-webkit-progress-bar {\n",
       "                background: #F44336;\n",
       "            }\n",
       "        </style>\n",
       "      <progress value='19' class='' max='19' style='width:300px; height:20px; vertical-align: middle;'></progress>\n",
       "      100.00% [19/19 00:00<00:00 logp = -118.71, ||grad|| = 15.639]\n",
       "    </div>\n",
       "    "
      ],
      "text/plain": [
       "<IPython.core.display.HTML object>"
      ]
     },
     "metadata": {},
     "output_type": "display_data"
    },
    {
     "name": "stdout",
     "output_type": "stream",
     "text": [
      "\n"
     ]
    }
   ],
   "source": [
    "gaussian = fundamentals.regression.student.gaussian.Gaussian(\n",
    "    independent=data.independent, dependent=data.dependent).inference()"
   ]
  },
  {
   "cell_type": "markdown",
   "metadata": {},
   "source": [
    "<br>\n",
    "\n",
    "Predictions"
   ]
  },
  {
   "cell_type": "code",
   "execution_count": 26,
   "metadata": {
    "colab": {
     "base_uri": "https://localhost:8080/",
     "height": 501
    },
    "id": "ojQ-qbDfo-n0",
    "outputId": "2889e245-208f-4782-8462-45d5c199582d"
   },
   "outputs": [],
   "source": [
    "sgp = fundamentals.regression.predictions.Predictions(\n",
    "    trace=gaussian.trace, maximal=gaussian.maximal, abscissae=data.abscissae, size=75).exc()"
   ]
  },
  {
   "cell_type": "code",
   "execution_count": 27,
   "metadata": {
    "colab": {
     "base_uri": "https://localhost:8080/"
    },
    "id": "8Kkdn1Tnqe8j",
    "outputId": "75e4fb7b-bc2d-423b-c5fa-1aa85e4b694d"
   },
   "outputs": [
    {
     "name": "stderr",
     "output_type": "stream",
     "text": [
      "INFO:__main__:(200, 75)\n"
     ]
    }
   ],
   "source": [
    "logger.info(sgp.lines.shape)"
   ]
  },
  {
   "cell_type": "markdown",
   "metadata": {
    "id": "YQZkZl7VV2Pb"
   },
   "source": [
    "<br>\n",
    "<br>\n",
    "\n",
    "## Gaussian"
   ]
  },
  {
   "cell_type": "markdown",
   "metadata": {
    "id": "BARFd3EGV8xO"
   },
   "source": [
    "### Gaussian Likelihood, Gaussian Weights"
   ]
  },
  {
   "cell_type": "code",
   "execution_count": 28,
   "metadata": {
    "id": "2V6u0jDQWFVN"
   },
   "outputs": [],
   "source": [
    "import fundamentals.regression.gaussian.gaussian"
   ]
  },
  {
   "cell_type": "code",
   "execution_count": 29,
   "metadata": {
    "id": "UDov1EszXbOw"
   },
   "outputs": [
    {
     "name": "stderr",
     "output_type": "stream",
     "text": [
      "Auto-assigning NUTS sampler...\n",
      "INFO:pymc3:Auto-assigning NUTS sampler...\n",
      "Initializing NUTS using jitter+adapt_diag...\n",
      "INFO:pymc3:Initializing NUTS using jitter+adapt_diag...\n",
      "Multiprocess sampling (4 chains in 4 jobs)\n",
      "INFO:pymc3:Multiprocess sampling (4 chains in 4 jobs)\n",
      "NUTS: [sigma, intercept, gradient]\n",
      "INFO:pymc3:NUTS: [sigma, intercept, gradient]\n"
     ]
    },
    {
     "data": {
      "text/html": [
       "\n",
       "    <div>\n",
       "        <style>\n",
       "            /* Turns off some styling */\n",
       "            progress {\n",
       "                /* gets rid of default border in Firefox and Opera. */\n",
       "                border: none;\n",
       "                /* Needs to be in here for Safari polyfill so background images work as expected. */\n",
       "                background-size: auto;\n",
       "            }\n",
       "            .progress-bar-interrupted, .progress-bar-interrupted::-webkit-progress-bar {\n",
       "                background: #F44336;\n",
       "            }\n",
       "        </style>\n",
       "      <progress value='56000' class='' max='56000' style='width:300px; height:20px; vertical-align: middle;'></progress>\n",
       "      100.00% [56000/56000 00:35<00:00 Sampling 4 chains, 0 divergences]\n",
       "    </div>\n",
       "    "
      ],
      "text/plain": [
       "<IPython.core.display.HTML object>"
      ]
     },
     "metadata": {},
     "output_type": "display_data"
    },
    {
     "name": "stderr",
     "output_type": "stream",
     "text": [
      "Sampling 4 chains for 10_000 tune and 4_000 draw iterations (40_000 + 16_000 draws total) took 50 seconds.\n",
      "INFO:pymc3:Sampling 4 chains for 10_000 tune and 4_000 draw iterations (40_000 + 16_000 draws total) took 50 seconds.\n"
     ]
    },
    {
     "data": {
      "text/html": [
       "\n",
       "    <div>\n",
       "        <style>\n",
       "            /* Turns off some styling */\n",
       "            progress {\n",
       "                /* gets rid of default border in Firefox and Opera. */\n",
       "                border: none;\n",
       "                /* Needs to be in here for Safari polyfill so background images work as expected. */\n",
       "                background-size: auto;\n",
       "            }\n",
       "            .progress-bar-interrupted, .progress-bar-interrupted::-webkit-progress-bar {\n",
       "                background: #F44336;\n",
       "            }\n",
       "        </style>\n",
       "      <progress value='15' class='' max='15' style='width:300px; height:20px; vertical-align: middle;'></progress>\n",
       "      100.00% [15/15 00:00<00:00 logp = -175, ||grad|| = 1.1147]\n",
       "    </div>\n",
       "    "
      ],
      "text/plain": [
       "<IPython.core.display.HTML object>"
      ]
     },
     "metadata": {},
     "output_type": "display_data"
    },
    {
     "name": "stdout",
     "output_type": "stream",
     "text": [
      "\n"
     ]
    }
   ],
   "source": [
    "normal = fundamentals.regression.gaussian.gaussian.Gaussian(\n",
    "    independent=data.independent, dependent=data.dependent).inference()"
   ]
  },
  {
   "cell_type": "markdown",
   "metadata": {},
   "source": [
    "<br>\n",
    "\n",
    "Predictions"
   ]
  },
  {
   "cell_type": "code",
   "execution_count": 30,
   "metadata": {},
   "outputs": [],
   "source": [
    "ggp = fundamentals.regression.predictions.Predictions(\n",
    "    trace=normal.trace, maximal=normal.maximal, abscissae=data.abscissae, size=75).exc()"
   ]
  },
  {
   "cell_type": "code",
   "execution_count": 31,
   "metadata": {},
   "outputs": [
    {
     "name": "stderr",
     "output_type": "stream",
     "text": [
      "INFO:__main__:(200, 75)\n"
     ]
    }
   ],
   "source": [
    "logger.info(ggp.lines.shape)"
   ]
  },
  {
   "cell_type": "markdown",
   "metadata": {
    "id": "2_2Md14ftAcq"
   },
   "source": [
    "<br>\n",
    "<br>\n",
    "\n",
    "# Analysis"
   ]
  },
  {
   "cell_type": "markdown",
   "metadata": {
    "id": "rRBP3Tv1uh42"
   },
   "source": [
    "<br>\n",
    "\n",
    "**Comparative Analysis of Models**"
   ]
  },
  {
   "cell_type": "code",
   "execution_count": 32,
   "metadata": {
    "colab": {
     "base_uri": "https://localhost:8080/"
    },
    "id": "yc_Vwzhd6shC",
    "outputId": "dc8ca74f-98ff-46a5-9e1e-ca3a97ba4aa0"
   },
   "outputs": [
    {
     "name": "stderr",
     "output_type": "stream",
     "text": [
      "J:\\Programs\\Anaconda3\\envs\\uncertainty\\lib\\site-packages\\arviz\\stats\\stats.py:684: UserWarning: Estimated shape parameter of Pareto distribution is greater than 0.7 for one or more samples. You should consider using a more robust model, this is because importance sampling is less likely to work well if the marginal posterior and LOO posterior are very different. This is more likely to happen with a non-robust model and highly influential observations.\n",
      "  \"Estimated shape parameter of Pareto distribution is greater than 0.7 for \"\n"
     ]
    }
   ],
   "source": [
    "mca = az.compare({'student, gaussian parameters': gaussian.arviztrace, \n",
    "                  'student, stochastic parameters': stochastic.arviztrace, \n",
    "                  'gaussian, gaussian parameters': normal.arviztrace},\n",
    "                 b_samples=10000, ic='loo', scale='deviance')\n"
   ]
  },
  {
   "cell_type": "code",
   "execution_count": 33,
   "metadata": {
    "colab": {
     "base_uri": "https://localhost:8080/",
     "height": 144
    },
    "id": "WmEOTJZlB19k",
    "outputId": "92f0dcb9-d6dd-4b54-f851-163320de5409"
   },
   "outputs": [
    {
     "data": {
      "text/html": [
       "<div>\n",
       "<style scoped>\n",
       "    .dataframe tbody tr th:only-of-type {\n",
       "        vertical-align: middle;\n",
       "    }\n",
       "\n",
       "    .dataframe tbody tr th {\n",
       "        vertical-align: top;\n",
       "    }\n",
       "\n",
       "    .dataframe thead th {\n",
       "        text-align: right;\n",
       "    }\n",
       "</style>\n",
       "<table border=\"1\" class=\"dataframe\">\n",
       "  <thead>\n",
       "    <tr style=\"text-align: right;\">\n",
       "      <th></th>\n",
       "      <th>rank</th>\n",
       "      <th>loo</th>\n",
       "      <th>p_loo</th>\n",
       "      <th>d_loo</th>\n",
       "      <th>weight</th>\n",
       "      <th>se</th>\n",
       "      <th>dse</th>\n",
       "      <th>warning</th>\n",
       "      <th>loo_scale</th>\n",
       "    </tr>\n",
       "  </thead>\n",
       "  <tbody>\n",
       "    <tr>\n",
       "      <th>student, stochastic parameters</th>\n",
       "      <td>0</td>\n",
       "      <td>216.356</td>\n",
       "      <td>5.32489</td>\n",
       "      <td>0</td>\n",
       "      <td>0.525386</td>\n",
       "      <td>29.3142</td>\n",
       "      <td>0</td>\n",
       "      <td>False</td>\n",
       "      <td>deviance</td>\n",
       "    </tr>\n",
       "    <tr>\n",
       "      <th>student, gaussian parameters</th>\n",
       "      <td>1</td>\n",
       "      <td>216.559</td>\n",
       "      <td>5.42615</td>\n",
       "      <td>0.203461</td>\n",
       "      <td>0.474614</td>\n",
       "      <td>29.2366</td>\n",
       "      <td>0.0984294</td>\n",
       "      <td>False</td>\n",
       "      <td>deviance</td>\n",
       "    </tr>\n",
       "    <tr>\n",
       "      <th>gaussian, gaussian parameters</th>\n",
       "      <td>2</td>\n",
       "      <td>352.192</td>\n",
       "      <td>15.1158</td>\n",
       "      <td>135.836</td>\n",
       "      <td>1.78638e-17</td>\n",
       "      <td>55.9108</td>\n",
       "      <td>33.1166</td>\n",
       "      <td>True</td>\n",
       "      <td>deviance</td>\n",
       "    </tr>\n",
       "  </tbody>\n",
       "</table>\n",
       "</div>"
      ],
      "text/plain": [
       "                               rank      loo    p_loo     d_loo       weight  \\\n",
       "student, stochastic parameters    0  216.356  5.32489         0     0.525386   \n",
       "student, gaussian parameters      1  216.559  5.42615  0.203461     0.474614   \n",
       "gaussian, gaussian parameters     2  352.192  15.1158   135.836  1.78638e-17   \n",
       "\n",
       "                                     se        dse warning loo_scale  \n",
       "student, stochastic parameters  29.3142          0   False  deviance  \n",
       "student, gaussian parameters    29.2366  0.0984294   False  deviance  \n",
       "gaussian, gaussian parameters   55.9108    33.1166    True  deviance  "
      ]
     },
     "execution_count": 33,
     "metadata": {},
     "output_type": "execute_result"
    }
   ],
   "source": [
    "mca"
   ]
  }
 ],
 "metadata": {
  "colab": {
   "collapsed_sections": [],
   "name": "linear.ipynb",
   "provenance": [],
   "toc_visible": true
  },
  "kernelspec": {
   "display_name": "Python 3",
   "language": "python",
   "name": "python3"
  },
  "language_info": {
   "codemirror_mode": {
    "name": "ipython",
    "version": 3
   },
   "file_extension": ".py",
   "mimetype": "text/x-python",
   "name": "python",
   "nbconvert_exporter": "python",
   "pygments_lexer": "ipython3",
   "version": "3.7.1"
  }
 },
 "nbformat": 4,
 "nbformat_minor": 4
}
